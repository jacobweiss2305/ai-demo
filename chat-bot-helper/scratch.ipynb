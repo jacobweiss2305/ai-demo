{
 "cells": [
  {
   "cell_type": "code",
   "execution_count": 1,
   "metadata": {},
   "outputs": [],
   "source": [
    "from dotenv import load_dotenv\n",
    "\n",
    "load_dotenv()\n",
    "\n",
    "import os\n",
    "\n",
    "from langchain.chains import RetrievalQA\n",
    "from langchain.document_loaders import TextLoader\n",
    "from langchain.embeddings.openai import OpenAIEmbeddings\n",
    "from langchain.llms import OpenAI\n",
    "from langchain.text_splitter import CharacterTextSplitter\n",
    "from langchain.vectorstores import Chroma\n",
    "from langchain.llms import OpenAI\n",
    "\n",
    "import pandas as pd"
   ]
  },
  {
   "cell_type": "code",
   "execution_count": 2,
   "metadata": {},
   "outputs": [],
   "source": [
    "def qa(file_path, prompt):\n",
    "\n",
    "    loader = TextLoader(file_path)\n",
    "\n",
    "    documents = loader.load()\n",
    "    text_splitter = CharacterTextSplitter(chunk_size=1000, chunk_overlap=50)\n",
    "    texts = text_splitter.split_documents(documents)\n",
    "\n",
    "    embeddings = OpenAIEmbeddings()\n",
    "    docsearch = Chroma.from_documents(texts, embeddings)\n",
    "\n",
    "    qa = RetrievalQA.from_chain_type(llm=OpenAI(), chain_type=\"stuff\", retriever=docsearch.as_retriever())\n",
    "\n",
    "    return qa.run(prompt)"
   ]
  },
  {
   "cell_type": "code",
   "execution_count": 5,
   "metadata": {},
   "outputs": [
    {
     "name": "stderr",
     "output_type": "stream",
     "text": [
      "Number of requested results 4 is greater than number of elements in index 1, updating n_results = 1\n"
     ]
    }
   ],
   "source": [
    "files = os.listdir(r'docs')\n",
    "txt_files = [file for file in files if file.endswith(\".txt\")]\n",
    "\n",
    "question = \"How do I log into the Alpha Theory application?\"\n",
    "\n",
    "find = f\"\"\"\n",
    "What is the best document to answer this question: {question}\n",
    "\n",
    "Please respond with the file name of the best document.\n",
    "\n",
    "Example:\n",
    "sample.txt\n",
    "\n",
    "If you are unsure respond with \"I am sorry, I don't know.\"\n",
    "\n",
    "\"\"\"\n",
    "\n",
    "best_document = qa(\"docs/meta.txt\", question)\n",
    "\n",
    "store_answer_best_document = \"best_document.txt\"\n",
    "\n",
    "with open(store_answer_best_document, 'w') as file:\n",
    "        file.write(best_document)\n",
    "\n",
    "extract_prompt = f\"\"\"\n",
    "\n",
    "Extract the .txt file name\n",
    "\n",
    "\"\"\"\n",
    "\n",
    "best_file = qa(store_answer_best_document, extract_prompt)\n",
    "\n",
    "best_file_name = [i for i in txt_files if best_file.replace(\"\\n\",\"\") in i][0]\n",
    "\n",
    "answer_question = qa(f\"docs/{best_file_name}\", question)\n",
    "\n",
    "print(answer_question)\n"
   ]
  },
  {
   "cell_type": "code",
   "execution_count": 6,
   "metadata": {},
   "outputs": [
    {
     "name": "stderr",
     "output_type": "stream",
     "text": [
      "Number of requested results 4 is greater than number of elements in index 1, updating n_results = 1\n"
     ]
    }
   ],
   "source": []
  },
  {
   "cell_type": "code",
   "execution_count": null,
   "metadata": {},
   "outputs": [],
   "source": []
  },
  {
   "cell_type": "code",
   "execution_count": 16,
   "metadata": {},
   "outputs": [
    {
     "name": "stderr",
     "output_type": "stream",
     "text": [
      "Number of requested results 4 is greater than number of elements in index 3, updating n_results = 3\n"
     ]
    },
    {
     "name": "stdout",
     "output_type": "stream",
     "text": [
      " Follow the steps outlined in the context to log into Alpha Theory. Open a web browser, enter the URL \"www.alphatheory.com\", access the login page, enter your credentials, click the \"Login\" button, wait for authentication, and access your account. Optionally, you can logout using the \"Logout\" or \"Sign Out\" option in the top-right corner of the webpage.\n"
     ]
    }
   ],
   "source": []
  },
  {
   "cell_type": "code",
   "execution_count": null,
   "metadata": {},
   "outputs": [],
   "source": []
  }
 ],
 "metadata": {
  "kernelspec": {
   "display_name": "venv",
   "language": "python",
   "name": "python3"
  },
  "language_info": {
   "codemirror_mode": {
    "name": "ipython",
    "version": 3
   },
   "file_extension": ".py",
   "mimetype": "text/x-python",
   "name": "python",
   "nbconvert_exporter": "python",
   "pygments_lexer": "ipython3",
   "version": "3.11.4"
  },
  "orig_nbformat": 4
 },
 "nbformat": 4,
 "nbformat_minor": 2
}
